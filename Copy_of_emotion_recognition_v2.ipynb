{
  "nbformat": 4,
  "nbformat_minor": 0,
  "metadata": {
    "colab": {
      "provenance": [],
      "collapsed_sections": [],
      "mount_file_id": "https://github.com/DigitalGoldRush/Project-2-Emotional-recognition/blob/main/emotion_recognition_v2.ipynb",
      "authorship_tag": "ABX9TyMm+Nj97muNLiOuAcqoU68I",
      "include_colab_link": true
    },
    "kernelspec": {
      "name": "python3",
      "display_name": "Python 3"
    },
    "language_info": {
      "name": "python"
    },
    "accelerator": "GPU",
    "gpuClass": "premium"
  },
  "cells": [
    {
      "cell_type": "markdown",
      "metadata": {
        "id": "view-in-github",
        "colab_type": "text"
      },
      "source": [
        "<a href=\"https://colab.research.google.com/github/DigitalGoldRush/DigitalGoldRush/blob/main/Copy_of_emotion_recognition_v2.ipynb\" target=\"_parent\"><img src=\"https://colab.research.google.com/assets/colab-badge.svg\" alt=\"Open In Colab\"/></a>"
      ]
    },
    {
      "cell_type": "code",
      "source": [
        "import tensorflow as tf\n",
        "import numpy as np\n",
        "import pandas as pd\n",
        "import random\n",
        "from tensorflow import keras\n",
        "from keras import layers\n",
        "from keras import Model\n",
        "from keras.preprocessing.image import ImageDataGenerator\n",
        "from keras.applications.inception_v3 import InceptionV3\n",
        "RANDOM_SEED = 123\n"
      ],
      "metadata": {
        "id": "z0elcJHShGG-"
      },
      "execution_count": null,
      "outputs": []
    },
    {
      "cell_type": "code",
      "source": [
        "#Faster way to upload zip files from gdrive to colab\n",
        "# ID of Kaggle emotional dataset\n",
        "! gdown --id 1wrwLq6DqNHLDxU18RYUPY0WcV4ZNG70P"
      ],
      "metadata": {
        "colab": {
          "base_uri": "https://localhost:8080/"
        },
        "id": "Wn0TtaIEEFCE",
        "outputId": "8cbc30f8-da95-4b99-8eab-6aec4caf351f"
      },
      "execution_count": null,
      "outputs": [
        {
          "output_type": "stream",
          "name": "stdout",
          "text": [
            "/usr/local/lib/python3.7/dist-packages/gdown/cli.py:131: FutureWarning: Option `--id` was deprecated in version 4.3.1 and will be removed in 5.0. You don't need to pass it anymore to use a file ID.\n",
            "  category=FutureWarning,\n",
            "Downloading...\n",
            "From: https://drive.google.com/uc?id=1wrwLq6DqNHLDxU18RYUPY0WcV4ZNG70P\n",
            "To: /content/emotional dataset.zip\n",
            "100% 62.6M/62.6M [00:00<00:00, 121MB/s]\n"
          ]
        }
      ]
    },
    {
      "cell_type": "code",
      "source": [
        "# Required to save models in HDF5 format\n",
        "!pip install pyyaml h5py "
      ],
      "metadata": {
        "colab": {
          "base_uri": "https://localhost:8080/"
        },
        "id": "C_ro1m6rUgZp",
        "outputId": "0228b916-cd9c-46a3-c1ac-731d6fa37613"
      },
      "execution_count": null,
      "outputs": [
        {
          "output_type": "stream",
          "name": "stdout",
          "text": [
            "Looking in indexes: https://pypi.org/simple, https://us-python.pkg.dev/colab-wheels/public/simple/\n",
            "Requirement already satisfied: pyyaml in /usr/local/lib/python3.7/dist-packages (6.0)\n",
            "Requirement already satisfied: h5py in /usr/local/lib/python3.7/dist-packages (3.1.0)\n",
            "Requirement already satisfied: cached-property in /usr/local/lib/python3.7/dist-packages (from h5py) (1.5.2)\n",
            "Requirement already satisfied: numpy>=1.14.5 in /usr/local/lib/python3.7/dist-packages (from h5py) (1.21.6)\n"
          ]
        }
      ]
    },
    {
      "cell_type": "code",
      "source": [
        "# zip file opener\n",
        "!pip install patool\n",
        "import patoolib"
      ],
      "metadata": {
        "colab": {
          "base_uri": "https://localhost:8080/"
        },
        "id": "ME1TqApuHMIl",
        "outputId": "f0ae56ad-b3a6-423a-aa21-e4e4c1178df0"
      },
      "execution_count": null,
      "outputs": [
        {
          "output_type": "stream",
          "name": "stdout",
          "text": [
            "Looking in indexes: https://pypi.org/simple, https://us-python.pkg.dev/colab-wheels/public/simple/\n",
            "Collecting patool\n",
            "  Downloading patool-1.12-py2.py3-none-any.whl (77 kB)\n",
            "\u001b[K     |████████████████████████████████| 77 kB 763 kB/s \n",
            "\u001b[?25hInstalling collected packages: patool\n",
            "Successfully installed patool-1.12\n"
          ]
        }
      ]
    },
    {
      "cell_type": "code",
      "source": [
        "patoolib.extract_archive('/content/emotional dataset.zip')"
      ],
      "metadata": {
        "colab": {
          "base_uri": "https://localhost:8080/",
          "height": 87
        },
        "id": "I8AeYeVIHlB2",
        "outputId": "d646f3f3-19f8-4ba9-87d6-4db05118de5b"
      },
      "execution_count": null,
      "outputs": [
        {
          "output_type": "stream",
          "name": "stdout",
          "text": [
            "patool: Extracting /content/emotional dataset.zip ...\n",
            "patool: running /usr/bin/7z x -o./Unpack_2habjg10 -- \"/content/emotional dataset.zip\"\n",
            "patool: ... /content/emotional dataset.zip extracted to `emotional dataset' (multiple files in root).\n"
          ]
        },
        {
          "output_type": "execute_result",
          "data": {
            "text/plain": [
              "'emotional dataset'"
            ],
            "application/vnd.google.colaboratory.intrinsic+json": {
              "type": "string"
            }
          },
          "metadata": {},
          "execution_count": 5
        }
      ]
    },
    {
      "cell_type": "code",
      "source": [
        "import os\n",
        "for dirname, _, filenames in os.walk('/kaggle/input'):\n",
        "    for filename in filenames:\n",
        "        os.path.join(dirname, filename)"
      ],
      "metadata": {
        "id": "5MeUdG3u3DEP"
      },
      "execution_count": null,
      "outputs": []
    },
    {
      "cell_type": "code",
      "source": [
        "# data preparation\n",
        "train_dir = '/content/emotional dataset/Training/Training'\n",
        "test_dir = '/content/emotional dataset/Testing/Testing'\n",
        "\n",
        "train_angry_dir = '/content/emotional dataset/Training/Training/Angry'\n",
        "train_fear_dir = '/content/emotional dataset/Training/Training/Fear'\n",
        "train_happy_dir = '/content/emotional dataset/Training/Training/Happy'\n",
        "train_neutral_dir = '/content/emotional dataset/Training/Training/Neutral'\n",
        "train_sad_dir = '/content/emotional dataset/Training/Training/Sad'\n",
        "train_surprise_dir = '/content/emotional dataset/Training/Training/Suprise'\n",
        "\n",
        "test_angry_dir = '/content/emotional dataset/Testing/Testing/Angry'\n",
        "test_fear_dir = '/content/emotional dataset/Testing/Testing/Fear'\n",
        "test_happy_dir = '/content/emotional dataset/Testing/Testing/Happy'\n",
        "test_neural_dir = '/content/emotional dataset/Testing/Testing/Neutral'\n",
        "test_sad_dir = '/content/emotional dataset/Testing/Testing/Sad'\n",
        "test_surprise_dir = '/content/emotional dataset/Testing/Testing/Suprise'\n",
        "\n",
        "dir_list = [train_angry_dir, train_fear_dir, train_happy_dir,\n",
        "           train_neutral_dir, train_sad_dir, train_surprise_dir,\n",
        "           test_angry_dir, test_fear_dir, test_happy_dir,\n",
        "           test_neural_dir, test_sad_dir, test_surprise_dir]\n",
        "\n",
        "for d in dir_list:\n",
        "    print(d, len(os.listdir(d)))\n"
      ],
      "metadata": {
        "colab": {
          "base_uri": "https://localhost:8080/"
        },
        "id": "Xkt4CtTI-sWD",
        "outputId": "c991b063-000e-43cb-9b9b-2efba5f9e8f9"
      },
      "execution_count": null,
      "outputs": [
        {
          "output_type": "stream",
          "name": "stdout",
          "text": [
            "/content/emotional dataset/Training/Training/Angry 3995\n",
            "/content/emotional dataset/Training/Training/Fear 4097\n",
            "/content/emotional dataset/Training/Training/Happy 7215\n",
            "/content/emotional dataset/Training/Training/Neutral 4965\n",
            "/content/emotional dataset/Training/Training/Sad 4830\n",
            "/content/emotional dataset/Training/Training/Suprise 3171\n",
            "/content/emotional dataset/Testing/Testing/Angry 958\n",
            "/content/emotional dataset/Testing/Testing/Fear 1024\n",
            "/content/emotional dataset/Testing/Testing/Happy 1774\n",
            "/content/emotional dataset/Testing/Testing/Neutral 1233\n",
            "/content/emotional dataset/Testing/Testing/Sad 1247\n",
            "/content/emotional dataset/Testing/Testing/Suprise 831\n"
          ]
        }
      ]
    },
    {
      "cell_type": "code",
      "source": [
        "# image generator\n",
        "\n",
        "train_datagen = ImageDataGenerator(rescale=1.0/255.0,\n",
        "                                  rotation_range=40,\n",
        "                                  width_shift_range=0.2,\n",
        "                                  height_shift_range=0.2,\n",
        "                                  zoom_range=0.2,\n",
        "                                  horizontal_flip=True,\n",
        "                                  fill_mode='nearest')\n",
        "\n",
        "train_generator = train_datagen.flow_from_directory(train_dir,\n",
        "                                                   target_size=(150,150),\n",
        "                                                   batch_size=64,\n",
        "                                                   class_mode='categorical')\n",
        "\n",
        "validation_datagen = ImageDataGenerator(rescale=1.0/255.0)\n",
        "\n",
        "validation_generator = validation_datagen.flow_from_directory(test_dir,\n",
        "                                                             target_size=(150,150),\n",
        "                                                             batch_size=62,\n",
        "                                                             class_mode='categorical')"
      ],
      "metadata": {
        "colab": {
          "base_uri": "https://localhost:8080/"
        },
        "id": "M2UDHgvbALM0",
        "outputId": "5728c851-4879-40bd-ca2f-533eb73b1795"
      },
      "execution_count": null,
      "outputs": [
        {
          "output_type": "stream",
          "name": "stdout",
          "text": [
            "Found 28273 images belonging to 6 classes.\n",
            "Found 7067 images belonging to 6 classes.\n"
          ]
        }
      ]
    },
    {
      "cell_type": "code",
      "source": [
        "# callback function\n",
        "\n",
        "early_stopping_cb = keras.callbacks.EarlyStopping(patience=5,\n",
        "                                                 restore_best_weights=True)"
      ],
      "metadata": {
        "id": "K9SrLVKDm24M"
      },
      "execution_count": null,
      "outputs": []
    },
    {
      "cell_type": "code",
      "source": [
        "# build the model\n",
        "\n",
        "model = tf.keras.models.Sequential([\n",
        "    # Note the input shape is the desired size of the image 150x150 with 3 bytes color\n",
        "    tf.keras.layers.Conv2D(16, (3,3), activation='relu', input_shape=(150, 150, 3)),\n",
        "    tf.keras.layers.MaxPooling2D(2,2),\n",
        "    tf.keras.layers.Conv2D(32, (3,3), activation='relu'),\n",
        "    tf.keras.layers.MaxPooling2D(2,2), \n",
        "    tf.keras.layers.Conv2D(64, (3,3), activation='relu'), \n",
        "    tf.keras.layers.MaxPooling2D(2,2),\n",
        "    tf.keras.layers.Conv2D(64, (3,3), activation='relu'), \n",
        "    tf.keras.layers.MaxPooling2D(2,2),\n",
        "    # Flatten the results to feed into a DNN\n",
        "    tf.keras.layers.Flatten(), \n",
        "    # 512 neuron hidden layer\n",
        "    tf.keras.layers.Dense(512, activation='relu'), \n",
        "    tf.keras.layers.Dense(6, activation='softmax')  \n",
        "])\n",
        "\n",
        "from tensorflow.keras.optimizers import RMSprop\n",
        "\n",
        "model.compile(optimizer=RMSprop(learning_rate=0.001),\n",
        "              loss='categorical_crossentropy',\n",
        "              metrics = ['accuracy'])\n",
        "model.summary()\n",
        "# keras.utils.plot_model(model)"
      ],
      "metadata": {
        "colab": {
          "base_uri": "https://localhost:8080/"
        },
        "id": "q1XDMWPpAec7",
        "outputId": "c7afd84c-259b-4131-b87e-13b8053c128e"
      },
      "execution_count": null,
      "outputs": [
        {
          "output_type": "stream",
          "name": "stdout",
          "text": [
            "Model: \"sequential\"\n",
            "_________________________________________________________________\n",
            " Layer (type)                Output Shape              Param #   \n",
            "=================================================================\n",
            " conv2d (Conv2D)             (None, 148, 148, 16)      448       \n",
            "                                                                 \n",
            " max_pooling2d (MaxPooling2D  (None, 74, 74, 16)       0         \n",
            " )                                                               \n",
            "                                                                 \n",
            " conv2d_1 (Conv2D)           (None, 72, 72, 32)        4640      \n",
            "                                                                 \n",
            " max_pooling2d_1 (MaxPooling  (None, 36, 36, 32)       0         \n",
            " 2D)                                                             \n",
            "                                                                 \n",
            " conv2d_2 (Conv2D)           (None, 34, 34, 64)        18496     \n",
            "                                                                 \n",
            " max_pooling2d_2 (MaxPooling  (None, 17, 17, 64)       0         \n",
            " 2D)                                                             \n",
            "                                                                 \n",
            " conv2d_3 (Conv2D)           (None, 15, 15, 64)        36928     \n",
            "                                                                 \n",
            " max_pooling2d_3 (MaxPooling  (None, 7, 7, 64)         0         \n",
            " 2D)                                                             \n",
            "                                                                 \n",
            " flatten (Flatten)           (None, 3136)              0         \n",
            "                                                                 \n",
            " dense (Dense)               (None, 512)               1606144   \n",
            "                                                                 \n",
            " dense_1 (Dense)             (None, 6)                 3078      \n",
            "                                                                 \n",
            "=================================================================\n",
            "Total params: 1,669,734\n",
            "Trainable params: 1,669,734\n",
            "Non-trainable params: 0\n",
            "_________________________________________________________________\n"
          ]
        }
      ]
    },
    {
      "cell_type": "code",
      "source": [
        "# to check if colab is connected to a GPU for faster speed\n",
        "# change Notebook settings above to Runtime > Change runtime type\n",
        "# need Colab Pro\n",
        "\n",
        "gpu_info = !nvidia-smi\n",
        "gpu_info = '\\n'.join(gpu_info)\n",
        "if gpu_info.find('failed') >= 0:\n",
        "  print('Not connected to a GPU')\n",
        "else:\n",
        "  print(gpu_info)\n"
      ],
      "metadata": {
        "colab": {
          "base_uri": "https://localhost:8080/"
        },
        "id": "ZgeuVfG1Ki_t",
        "outputId": "b954f7fc-a7d2-4777-9597-c5f3748c713d"
      },
      "execution_count": null,
      "outputs": [
        {
          "output_type": "stream",
          "name": "stdout",
          "text": [
            "Mon Oct  3 00:24:29 2022       \n",
            "+-----------------------------------------------------------------------------+\n",
            "| NVIDIA-SMI 460.32.03    Driver Version: 460.32.03    CUDA Version: 11.2     |\n",
            "|-------------------------------+----------------------+----------------------+\n",
            "| GPU  Name        Persistence-M| Bus-Id        Disp.A | Volatile Uncorr. ECC |\n",
            "| Fan  Temp  Perf  Pwr:Usage/Cap|         Memory-Usage | GPU-Util  Compute M. |\n",
            "|                               |                      |               MIG M. |\n",
            "|===============================+======================+======================|\n",
            "|   0  Tesla V100-SXM2...  Off  | 00000000:00:04.0 Off |                    0 |\n",
            "| N/A   36C    P0    38W / 300W |    523MiB / 16160MiB |      0%      Default |\n",
            "|                               |                      |                  N/A |\n",
            "+-------------------------------+----------------------+----------------------+\n",
            "                                                                               \n",
            "+-----------------------------------------------------------------------------+\n",
            "| Processes:                                                                  |\n",
            "|  GPU   GI   CI        PID   Type   Process name                  GPU Memory |\n",
            "|        ID   ID                                                   Usage      |\n",
            "|=============================================================================|\n",
            "+-----------------------------------------------------------------------------+\n"
          ]
        }
      ]
    },
    {
      "cell_type": "code",
      "source": [
        "# train the model\n",
        "\n",
        "history = model.fit(train_generator,\n",
        "                   epochs=10,\n",
        "                   verbose=1,\n",
        "                   validation_data=validation_generator,\n",
        "                   callbacks=early_stopping_cb)\n"
      ],
      "metadata": {
        "id": "-b0QUqnxnZDC",
        "colab": {
          "base_uri": "https://localhost:8080/"
        },
        "outputId": "0a20be1d-cbc6-417d-81d7-bcf4d7d2b64e"
      },
      "execution_count": null,
      "outputs": [
        {
          "metadata": {
            "tags": null
          },
          "name": "stdout",
          "output_type": "stream",
          "text": [
            "Epoch 1/10\n",
            "442/442 [==============================] - 167s 352ms/step - loss: 1.7436 - accuracy: 0.2582 - val_loss: 1.6926 - val_accuracy: 0.2823\n",
            "Epoch 2/10\n",
            "442/442 [==============================] - 146s 330ms/step - loss: 1.7011 - accuracy: 0.2785 - val_loss: 1.6154 - val_accuracy: 0.3386\n",
            "Epoch 3/10\n",
            "442/442 [==============================] - 145s 327ms/step - loss: 1.6449 - accuracy: 0.3200 - val_loss: 1.5349 - val_accuracy: 0.3733\n",
            "Epoch 4/10\n",
            "442/442 [==============================] - 143s 324ms/step - loss: 1.5808 - accuracy: 0.3531 - val_loss: 1.4237 - val_accuracy: 0.4310\n",
            "Epoch 5/10\n",
            "442/442 [==============================] - 144s 327ms/step - loss: 1.5228 - accuracy: 0.3871 - val_loss: 1.3886 - val_accuracy: 0.4469\n",
            "Epoch 6/10\n",
            "442/442 [==============================] - 146s 330ms/step - loss: 1.4746 - accuracy: 0.4103 - val_loss: 1.3843 - val_accuracy: 0.4566\n",
            "Epoch 7/10\n",
            "442/442 [==============================] - 144s 326ms/step - loss: 1.4336 - accuracy: 0.4290 - val_loss: 1.2595 - val_accuracy: 0.5097\n",
            "Epoch 8/10\n",
            "442/442 [==============================] - 144s 325ms/step - loss: 1.4036 - accuracy: 0.4441 - val_loss: 1.3381 - val_accuracy: 0.4621\n",
            "Epoch 9/10\n",
            "442/442 [==============================] - 143s 325ms/step - loss: 1.3878 - accuracy: 0.4500 - val_loss: 1.3026 - val_accuracy: 0.4886\n",
            "Epoch 10/10\n",
            "442/442 [==============================] - 144s 327ms/step - loss: 1.3667 - accuracy: 0.4593 - val_loss: 1.2285 - val_accuracy: 0.5224\n"
          ]
        }
      ]
    },
    {
      "cell_type": "code",
      "source": [
        "# save the model to g-drive because files are discarded on colab after a period of time\n",
        "# change the name each time or it will be overwritten\n",
        "# model.save('facial_reco_base_model.h5')\n",
        "\n",
        "model.save(\"/content/drive/MyDrive/Colab Notebooks/Project 2_ Emotion Recognition/facial_reco_whole_model\")\n",
        "# change the file name!!\n"
      ],
      "metadata": {
        "id": "fEIoSI6yBJuS"
      },
      "execution_count": null,
      "outputs": []
    },
    {
      "cell_type": "code",
      "source": [
        "# plot accuracy and loss\n",
        "\n",
        "import matplotlib.pyplot as plt\n",
        "\n",
        "acc = history.history['accuracy']\n",
        "val_acc = history.history['val_accuracy']\n",
        "loss = history.history['loss']\n",
        "val_loss = history.history['val_loss']\n",
        "\n",
        "epochs = range(1, len(acc) + 1)\n",
        "\n",
        "# accuracy\n",
        "\n",
        "plt.plot(epochs, acc, 'b', label='Training accuracy')\n",
        "plt.plot(epochs, val_acc, 'b--', label='Validation accuracy')\n",
        "plt.title('Training and validation accuracy')\n",
        "plt.legend()\n",
        "plt.show()\n",
        "\n",
        "# loss\n",
        "\n",
        "plt.plot(epochs, loss, 'r', label='Training loss')\n",
        "plt.plot(epochs, val_loss, 'r--', label='Validation loss')\n",
        "plt.title('Training and validation loss')\n",
        "plt.legend()\n",
        "plt.show()"
      ],
      "metadata": {
        "colab": {
          "base_uri": "https://localhost:8080/",
          "height": 545
        },
        "id": "0pqqm_-mBQyv",
        "outputId": "d740f740-8300-45e6-d8dd-29affc28850e"
      },
      "execution_count": null,
      "outputs": [
        {
          "output_type": "display_data",
          "data": {
            "text/plain": [
              "<Figure size 432x288 with 1 Axes>"
            ],
            "image/png": "[encoded data removed]"
          },
          "metadata": {
            "needs_background": "light"
          }
        },
        {
          "output_type": "display_data",
          "data": {
            "text/plain": [
              "<Figure size 432x288 with 1 Axes>"
            ],
            "image/png": "[encoded data removed]"
          },
          "metadata": {
            "needs_background": "light"
          }
        }
      ]
    },
    {
      "cell_type": "code",
      "source": [
        "# It can be used to reconstruct the model identically.\n",
        "reconstructed_model = keras.models.load_model(\"my_model\")\n",
        "\n",
        "# Let's check:\n",
        "np.testing.assert_allclose(\n",
        "    model.predict(test_input), reconstructed_model.predict(test_input)\n",
        ")\n",
        "\n",
        "# The reconstructed model is already compiled and has retained the optimizer\n",
        "# state, so training can resume:\n",
        "reconstructed_model.fit(test_input, test_target)"
      ],
      "metadata": {
        "id": "7jlQODX-PV0c"
      },
      "execution_count": null,
      "outputs": []
    }
  ]
}